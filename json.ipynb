{
  "nbformat": 4,
  "nbformat_minor": 0,
  "metadata": {
    "colab": {
      "provenance": [],
      "authorship_tag": "ABX9TyMoYTAHPTI07orJIM8NrAs/",
      "include_colab_link": true
    },
    "kernelspec": {
      "name": "python3",
      "display_name": "Python 3"
    },
    "language_info": {
      "name": "python"
    }
  },
  "cells": [
    {
      "cell_type": "markdown",
      "metadata": {
        "id": "view-in-github",
        "colab_type": "text"
      },
      "source": [
        "<a href=\"https://colab.research.google.com/github/IlyaZutler/Project-OpenWeather/blob/main/json.ipynb\" target=\"_parent\"><img src=\"https://colab.research.google.com/assets/colab-badge.svg\" alt=\"Open In Colab\"/></a>"
      ]
    },
    {
      "cell_type": "code",
      "source": [
        "import json\n",
        "\n",
        "data = { \"president\": {\"name\": \"Zaphod Beeblebrox\", \"species\": \"Betelgeusian\" }}\n",
        "with open(\"data_file.json\", \"w\") as write_file:\n",
        "    json.dump(data, write_file, indent=4)\n",
        "\n",
        "with open(\"data_file.json\", \"r\") as read_file:\n",
        "    data = json.load(read_file)\n",
        "print(json.dumps(data, indent=4))\n",
        "data\n",
        "\n"
      ],
      "metadata": {
        "colab": {
          "base_uri": "https://localhost:8080/"
        },
        "id": "7-Qf54NBD5cX",
        "outputId": "3e8c3773-cf4a-4edf-a377-ba153809d68a"
      },
      "execution_count": 20,
      "outputs": [
        {
          "output_type": "stream",
          "name": "stdout",
          "text": [
            "{\n",
            "    \"president\": {\n",
            "        \"name\": \"Zaphod Beeblebrox\",\n",
            "        \"species\": \"Betelgeusian\"\n",
            "    }\n",
            "}\n"
          ]
        },
        {
          "output_type": "execute_result",
          "data": {
            "text/plain": [
              "{'president': {'name': 'Zaphod Beeblebrox', 'species': 'Betelgeusian'}}"
            ]
          },
          "metadata": {},
          "execution_count": 20
        }
      ]
    },
    {
      "cell_type": "code",
      "source": [
        "import requests\n",
        "\n",
        "response = requests.get('https://api.github.com')\n",
        "\n",
        "if response.status_code == 200:\n",
        "    print('Success!')\n",
        "elif response.status_code == 404:\n",
        "    print('Not Found.')"
      ],
      "metadata": {
        "colab": {
          "base_uri": "https://localhost:8080/"
        },
        "id": "CW7JE0gFH9mN",
        "outputId": "93e7a34f-303c-41b3-c7d7-9bd0120be5ea"
      },
      "execution_count": 18,
      "outputs": [
        {
          "output_type": "stream",
          "name": "stdout",
          "text": [
            "Success!\n"
          ]
        }
      ]
    },
    {
      "cell_type": "code",
      "source": [
        "import requests\n",
        "from requests.exceptions import HTTPError\n",
        "\n",
        "for url in ['https://api.github.com', 'https://api.github.com/invalid']:\n",
        "    try:\n",
        "        response = requests.get(url)\n",
        "\n",
        "        # если ответ успешен, исключения задействованы не будут\n",
        "        response.raise_for_status()\n",
        "    except HTTPError as http_err:\n",
        "        print(f'HTTP error occurred: {http_err}')  # Python 3.6\n",
        "    except Exception as err:\n",
        "        print(f'Other error occurred: {err}')  # Python 3.6\n",
        "    else:\n",
        "        print('Success!')"
      ],
      "metadata": {
        "id": "cRNAGmhiOaxW"
      },
      "execution_count": null,
      "outputs": []
    },
    {
      "cell_type": "code",
      "source": [
        "response = requests.get(\"https://jsonplaceholder.typicode.com/todos\")\n",
        "todos = json.loads(response.text)\n",
        "todos"
      ],
      "metadata": {
        "id": "uwttpRGWOxJ8"
      },
      "execution_count": null,
      "outputs": []
    }
  ]
}