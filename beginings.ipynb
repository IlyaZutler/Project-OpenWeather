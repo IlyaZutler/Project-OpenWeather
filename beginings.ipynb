{
  "nbformat": 4,
  "nbformat_minor": 0,
  "metadata": {
    "colab": {
      "provenance": [],
      "include_colab_link": true
    },
    "kernelspec": {
      "name": "python3",
      "display_name": "Python 3"
    },
    "language_info": {
      "name": "python"
    }
  },
  "cells": [
    {
      "cell_type": "markdown",
      "metadata": {
        "id": "view-in-github",
        "colab_type": "text"
      },
      "source": [
        "<a href=\"https://colab.research.google.com/github/IlyaZutler/Project-OpenWeather/blob/main/beginings.ipynb\" target=\"_parent\"><img src=\"https://colab.research.google.com/assets/colab-badge.svg\" alt=\"Open In Colab\"/></a>"
      ]
    },
    {
      "cell_type": "code",
      "execution_count": null,
      "metadata": {
        "colab": {
          "base_uri": "https://localhost:8080/"
        },
        "id": "iT18Uzr326Qc",
        "outputId": "783b7a94-2081-4796-f6ba-98bf05008129"
      },
      "outputs": [
        {
          "output_type": "stream",
          "name": "stdout",
          "text": [
            "i am open to the world\n"
          ]
        }
      ],
      "source": [
        "print('i am open to the world')"
      ]
    },
    {
      "cell_type": "code",
      "source": [],
      "metadata": {
        "id": "4I171Ci4T0_Z"
      },
      "execution_count": null,
      "outputs": []
    },
    {
      "cell_type": "code",
      "source": [
        "# prompt: show local time\n",
        "import datetime\n",
        "\n",
        "now_time = datetime.datetime.now()\n",
        "#now_time_f = now_time.strftime(\"%Y-%m-%d %H:%M:%S\")\n",
        "print(\"Current date and time : \")\n",
        "print(now_time.strftime(\"%Y-%m-%d %H:%M:%S\"))\n"
      ],
      "metadata": {
        "id": "VTQ94kMz3To9",
        "colab": {
          "base_uri": "https://localhost:8080/"
        },
        "outputId": "813ad19d-02d0-4b35-eb19-ace258d9491e"
      },
      "execution_count": null,
      "outputs": [
        {
          "output_type": "stream",
          "name": "stdout",
          "text": [
            "Current date and time : \n",
            "2024-05-29 09:17:53\n"
          ]
        }
      ]
    },
    {
      "cell_type": "code",
      "source": [
        "import base64\n",
        "\n",
        "key = 'e7df4a8e075be92ad1b7835b674e5540'\n",
        "key_bytes = key.encode('utf-8')\n",
        "key_hide = base64.b64encode(key_bytes, altchars=None)\n",
        "print(key_hide)\n",
        "key_bytes2 = base64.b64decode(key_hide, altchars=None, validate=False)\n",
        "print(key_bytes2.decode('utf-8'))\n",
        "\n"
      ],
      "metadata": {
        "colab": {
          "base_uri": "https://localhost:8080/"
        },
        "id": "8sz2k1L3T1um",
        "outputId": "fc5ff2e9-8362-4b95-8991-f8b2e7e508cc"
      },
      "execution_count": null,
      "outputs": [
        {
          "output_type": "stream",
          "name": "stdout",
          "text": [
            "b'ZTdkZjRhOGUwNzViZTkyYWQxYjc4MzViNjc0ZTU1NDA='\n",
            "e7df4a8e075be92ad1b7835b674e5540\n"
          ]
        }
      ]
    },
    {
      "cell_type": "code",
      "source": [
        "city = input('city: ')\n",
        "city"
      ],
      "metadata": {
        "colab": {
          "base_uri": "https://localhost:8080/",
          "height": 53
        },
        "id": "z5PM78k8ujPV",
        "outputId": "7a2df2c6-439c-486f-e91b-86922a7c9001"
      },
      "execution_count": null,
      "outputs": [
        {
          "name": "stdout",
          "output_type": "stream",
          "text": [
            "city: London\n"
          ]
        },
        {
          "output_type": "execute_result",
          "data": {
            "text/plain": [
              "'London'"
            ],
            "application/vnd.google.colaboratory.intrinsic+json": {
              "type": "string"
            }
          },
          "metadata": {},
          "execution_count": 47
        }
      ]
    },
    {
      "cell_type": "code",
      "source": [
        "import requests, json\n",
        "\n",
        "api_url = \"http://api.openweathermap.org/data/2.5/forecast\"\n",
        "units = \"metric\"\n",
        "appid = 'e7df4a8e075be92ad1b7835b674e5540'\n",
        "city = 'London'\n",
        "response = requests.get(api_url, params={\"q\": city, \"units\": units, \"appid\": appid})\n",
        "\n",
        "print(\"This is IP responce\")\n",
        "print(response)"
      ],
      "metadata": {
        "colab": {
          "base_uri": "https://localhost:8080/"
        },
        "id": "yTwDViPOT-_e",
        "outputId": "88ec20df-9e2e-4480-f6dd-c912da9ac050"
      },
      "execution_count": null,
      "outputs": [
        {
          "output_type": "stream",
          "name": "stdout",
          "text": [
            "Data retrieved by restfull API gateway ...\n",
            "<Response [200]>\n"
          ]
        }
      ]
    },
    {
      "cell_type": "code",
      "source": [
        "data = response.json()\n",
        "data\n",
        "city_timezone = data['city']['timezone']\n"
      ],
      "metadata": {
        "id": "NpPqPGYOYbb_"
      },
      "execution_count": null,
      "outputs": []
    },
    {
      "cell_type": "code",
      "source": [
        "data['list'][0]"
      ],
      "metadata": {
        "colab": {
          "base_uri": "https://localhost:8080/"
        },
        "id": "W2ukLBB9qemq",
        "outputId": "251583da-68b5-4df7-909b-d28b1db86e38"
      },
      "execution_count": null,
      "outputs": [
        {
          "output_type": "execute_result",
          "data": {
            "text/plain": [
              "{'dt': 1716973200,\n",
              " 'main': {'temp': 15.68,\n",
              "  'feels_like': 15.37,\n",
              "  'temp_min': 15.21,\n",
              "  'temp_max': 15.68,\n",
              "  'pressure': 1008,\n",
              "  'sea_level': 1008,\n",
              "  'grnd_level': 1005,\n",
              "  'humidity': 79,\n",
              "  'temp_kf': 0.47},\n",
              " 'weather': [{'id': 803,\n",
              "   'main': 'Clouds',\n",
              "   'description': 'broken clouds',\n",
              "   'icon': '04d'}],\n",
              " 'clouds': {'all': 75},\n",
              " 'wind': {'speed': 4.14, 'deg': 270, 'gust': 6.13},\n",
              " 'visibility': 10000,\n",
              " 'pop': 0,\n",
              " 'sys': {'pod': 'd'},\n",
              " 'dt_txt': '2024-05-29 09:00:00'}"
            ]
          },
          "metadata": {},
          "execution_count": 37
        }
      ]
    },
    {
      "cell_type": "code",
      "source": [
        "\n",
        "\n",
        "\n",
        "print(data['list'][0]['weather'][0]['description'])"
      ],
      "metadata": {
        "colab": {
          "base_uri": "https://localhost:8080/"
        },
        "id": "UTJha6ETtr-A",
        "outputId": "af229ada-8e8b-446b-9725-dde244d17753"
      },
      "execution_count": null,
      "outputs": [
        {
          "output_type": "stream",
          "name": "stdout",
          "text": [
            "broken clouds\n"
          ]
        }
      ]
    },
    {
      "cell_type": "code",
      "source": [
        "#  'city_timezone'\n",
        "import datetime\n",
        "\n",
        "# Get the current time in UTC\n",
        "utc_now = datetime.datetime.utcnow()\n",
        "\n",
        "# Create a timezone object with an offset of 'city_timezone' seconds\n",
        "timezone = datetime.timezone(datetime.timedelta(seconds=city_timezone))\n",
        "\n",
        "# Convert the UTC time to the specified timezone\n",
        "local_now = utc_now.astimezone(timezone)\n",
        "\n",
        "# Print the local time\n",
        "print(local_now.strftime(\"%Y-%m-%d %H:%M:%S\"))\n"
      ],
      "metadata": {
        "colab": {
          "base_uri": "https://localhost:8080/"
        },
        "id": "eHenJ6eEasW9",
        "outputId": "cc58bf79-b175-441a-c400-34c0e51e89f1"
      },
      "execution_count": null,
      "outputs": [
        {
          "output_type": "stream",
          "name": "stdout",
          "text": [
            "2024-05-29 09:30:23\n"
          ]
        }
      ]
    }
  ]
}